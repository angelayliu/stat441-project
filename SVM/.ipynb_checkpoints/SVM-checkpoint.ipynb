{
 "cells": [
  {
   "cell_type": "code",
   "execution_count": 2,
   "id": "c0bc9d7e",
   "metadata": {},
   "outputs": [],
   "source": [
    "import pandas as pd \n",
    "import numpy as np\n",
    "from sklearn import svm\n",
    "from sklearn.model_selection import GridSearchCV, KFold\n",
    "from sklearn.metrics import log_loss\n",
    "# nll_score = log_loss(true_labels, predicted_probs)"
   ]
  },
  {
   "cell_type": "code",
   "execution_count": 3,
   "id": "60828a01",
   "metadata": {},
   "outputs": [],
   "source": [
    "X_train = pd.read_csv(\"../X_train.csv\")\n",
    "y_train = pd.read_csv(\"../y_train.csv\")\n",
    "X_test = pd.read_csv(\"../X_test.csv\")\n",
    "\n",
    "X_train = X_train.select_dtypes(exclude=['object'])\n",
    "X_train.fillna(-3, inplace=True)\n",
    "X_tr = X_train.values[:,1:]\n",
    "X_tr[X_tr < -3] = -2\n",
    "\n",
    "y_tr = y_train.values[:,1]\n",
    "y_tr[y_tr == -1] = 0\n",
    "\n",
    "X_test = X_test.select_dtypes(exclude=['object'])\n",
    "X_test.fillna(-3, inplace=True)\n",
    "X_ts = X_test.values[:,1:]\n",
    "X_ts[X_ts < -3] = -2"
   ]
  },
  {
   "cell_type": "code",
   "execution_count": null,
   "id": "c93628e2",
   "metadata": {},
   "outputs": [],
   "source": [
    "param_grid = {'C': [0.001, 0.01, 0.1, 1, 10, 100, 1000],\n",
    "                'gamma': [10, 1, 0.1, 0.2, 0.01, 0.001, 0.0001]\n",
    "             }\n",
    "svm_rbf_grid = GridSearchCV(svm.SVC(kernel='rbf'), param_grid, \n",
    "                           scoring='neg_log_loss', cv=10, n_jobs=-1)\n",
    "svm_rbf_grid.fit(X_tr, y_tr)\n",
    "print(svm_rbf_grid.best_params_, svm_rbf_grid.best_score_)"
   ]
  }
 ],
 "metadata": {
  "kernelspec": {
   "display_name": "Python 3 (ipykernel)",
   "language": "python",
   "name": "python3"
  },
  "language_info": {
   "codemirror_mode": {
    "name": "ipython",
    "version": 3
   },
   "file_extension": ".py",
   "mimetype": "text/x-python",
   "name": "python",
   "nbconvert_exporter": "python",
   "pygments_lexer": "ipython3",
   "version": "3.11.4"
  }
 },
 "nbformat": 4,
 "nbformat_minor": 5
}
