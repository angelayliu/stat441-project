{
 "cells": [
  {
   "cell_type": "code",
   "execution_count": 6,
   "id": "0614600f",
   "metadata": {},
   "outputs": [],
   "source": [
    "import pandas as pd \n",
    "import numpy as np"
   ]
  },
  {
   "cell_type": "code",
   "execution_count": 7,
   "id": "01b35a74",
   "metadata": {},
   "outputs": [
    {
     "data": {
      "text/html": [
       "<div>\n",
       "<style scoped>\n",
       "    .dataframe tbody tr th:only-of-type {\n",
       "        vertical-align: middle;\n",
       "    }\n",
       "\n",
       "    .dataframe tbody tr th {\n",
       "        vertical-align: top;\n",
       "    }\n",
       "\n",
       "    .dataframe thead th {\n",
       "        text-align: right;\n",
       "    }\n",
       "</style>\n",
       "<table border=\"1\" class=\"dataframe\">\n",
       "  <thead>\n",
       "    <tr style=\"text-align: right;\">\n",
       "      <th></th>\n",
       "      <th>id</th>\n",
       "      <th>year</th>\n",
       "      <th>fw_start</th>\n",
       "      <th>fw_end</th>\n",
       "      <th>country</th>\n",
       "      <th>c_abrv</th>\n",
       "      <th>v1</th>\n",
       "      <th>v2</th>\n",
       "      <th>v3</th>\n",
       "      <th>v4</th>\n",
       "      <th>...</th>\n",
       "      <th>v278b</th>\n",
       "      <th>v278c_r</th>\n",
       "      <th>v279a</th>\n",
       "      <th>v279b</th>\n",
       "      <th>v279c_r</th>\n",
       "      <th>v279d_r</th>\n",
       "      <th>v280</th>\n",
       "      <th>v281a</th>\n",
       "      <th>v281a_r</th>\n",
       "      <th>v282</th>\n",
       "    </tr>\n",
       "  </thead>\n",
       "  <tbody>\n",
       "    <tr>\n",
       "      <th>0</th>\n",
       "      <td>0</td>\n",
       "      <td>2020</td>\n",
       "      <td>202011</td>\n",
       "      <td>202011</td>\n",
       "      <td>804</td>\n",
       "      <td>UA</td>\n",
       "      <td>2</td>\n",
       "      <td>1</td>\n",
       "      <td>2</td>\n",
       "      <td>2</td>\n",
       "      <td>...</td>\n",
       "      <td>45</td>\n",
       "      <td>14.45</td>\n",
       "      <td>15</td>\n",
       "      <td>40</td>\n",
       "      <td>15.40</td>\n",
       "      <td>55</td>\n",
       "      <td>1</td>\n",
       "      <td>uk</td>\n",
       "      <td>475</td>\n",
       "      <td>32</td>\n",
       "    </tr>\n",
       "    <tr>\n",
       "      <th>1</th>\n",
       "      <td>1</td>\n",
       "      <td>2018</td>\n",
       "      <td>201809</td>\n",
       "      <td>201811</td>\n",
       "      <td>688</td>\n",
       "      <td>RS</td>\n",
       "      <td>2</td>\n",
       "      <td>1</td>\n",
       "      <td>2</td>\n",
       "      <td>2</td>\n",
       "      <td>...</td>\n",
       "      <td>12</td>\n",
       "      <td>17.12</td>\n",
       "      <td>18</td>\n",
       "      <td>25</td>\n",
       "      <td>18.25</td>\n",
       "      <td>73</td>\n",
       "      <td>2</td>\n",
       "      <td>sr</td>\n",
       "      <td>397</td>\n",
       "      <td>3</td>\n",
       "    </tr>\n",
       "    <tr>\n",
       "      <th>2</th>\n",
       "      <td>2</td>\n",
       "      <td>2017</td>\n",
       "      <td>201706</td>\n",
       "      <td>201803</td>\n",
       "      <td>352</td>\n",
       "      <td>IS</td>\n",
       "      <td>2</td>\n",
       "      <td>2</td>\n",
       "      <td>1</td>\n",
       "      <td>1</td>\n",
       "      <td>...</td>\n",
       "      <td>58</td>\n",
       "      <td>15.58</td>\n",
       "      <td>13</td>\n",
       "      <td>20</td>\n",
       "      <td>13.20</td>\n",
       "      <td>-5</td>\n",
       "      <td>2</td>\n",
       "      <td>is</td>\n",
       "      <td>72</td>\n",
       "      <td>87</td>\n",
       "    </tr>\n",
       "    <tr>\n",
       "      <th>3</th>\n",
       "      <td>3</td>\n",
       "      <td>2021</td>\n",
       "      <td>202105</td>\n",
       "      <td>202110</td>\n",
       "      <td>428</td>\n",
       "      <td>LV</td>\n",
       "      <td>1</td>\n",
       "      <td>2</td>\n",
       "      <td>1</td>\n",
       "      <td>1</td>\n",
       "      <td>...</td>\n",
       "      <td>42</td>\n",
       "      <td>8.42</td>\n",
       "      <td>8</td>\n",
       "      <td>51</td>\n",
       "      <td>8.51</td>\n",
       "      <td>9</td>\n",
       "      <td>1</td>\n",
       "      <td>lv</td>\n",
       "      <td>256</td>\n",
       "      <td>5157</td>\n",
       "    </tr>\n",
       "    <tr>\n",
       "      <th>4</th>\n",
       "      <td>4</td>\n",
       "      <td>2018</td>\n",
       "      <td>201801</td>\n",
       "      <td>201805</td>\n",
       "      <td>40</td>\n",
       "      <td>AT</td>\n",
       "      <td>1</td>\n",
       "      <td>1</td>\n",
       "      <td>2</td>\n",
       "      <td>2</td>\n",
       "      <td>...</td>\n",
       "      <td>51</td>\n",
       "      <td>12.51</td>\n",
       "      <td>13</td>\n",
       "      <td>53</td>\n",
       "      <td>13.53</td>\n",
       "      <td>62</td>\n",
       "      <td>1</td>\n",
       "      <td>de</td>\n",
       "      <td>158</td>\n",
       "      <td>64</td>\n",
       "    </tr>\n",
       "  </tbody>\n",
       "</table>\n",
       "<p>5 rows × 438 columns</p>\n",
       "</div>"
      ],
      "text/plain": [
       "   id  year  fw_start  fw_end  country c_abrv  v1  v2  v3  v4  ...  v278b  \\\n",
       "0   0  2020    202011  202011      804     UA   2   1   2   2  ...     45   \n",
       "1   1  2018    201809  201811      688     RS   2   1   2   2  ...     12   \n",
       "2   2  2017    201706  201803      352     IS   2   2   1   1  ...     58   \n",
       "3   3  2021    202105  202110      428     LV   1   2   1   1  ...     42   \n",
       "4   4  2018    201801  201805       40     AT   1   1   2   2  ...     51   \n",
       "\n",
       "   v278c_r  v279a  v279b  v279c_r  v279d_r  v280  v281a  v281a_r  v282  \n",
       "0    14.45     15     40    15.40       55     1     uk      475    32  \n",
       "1    17.12     18     25    18.25       73     2     sr      397     3  \n",
       "2    15.58     13     20    13.20       -5     2     is       72    87  \n",
       "3     8.42      8     51     8.51        9     1     lv      256  5157  \n",
       "4    12.51     13     53    13.53       62     1     de      158    64  \n",
       "\n",
       "[5 rows x 438 columns]"
      ]
     },
     "execution_count": 7,
     "metadata": {},
     "output_type": "execute_result"
    }
   ],
   "source": [
    "# X_train\n",
    "df=pd.read_csv(\"X_train.csv\")\n",
    "df.head()"
   ]
  },
  {
   "cell_type": "code",
   "execution_count": 18,
   "id": "781a62a7",
   "metadata": {},
   "outputs": [
    {
     "data": {
      "text/plain": [
       "int64      423\n",
       "object       8\n",
       "float64      7\n",
       "dtype: int64"
      ]
     },
     "execution_count": 18,
     "metadata": {},
     "output_type": "execute_result"
    }
   ],
   "source": [
    "df.dtypes.value_counts()"
   ]
  },
  {
   "cell_type": "code",
   "execution_count": 8,
   "id": "9f745136",
   "metadata": {},
   "outputs": [
    {
     "data": {
      "text/html": [
       "<div>\n",
       "<style scoped>\n",
       "    .dataframe tbody tr th:only-of-type {\n",
       "        vertical-align: middle;\n",
       "    }\n",
       "\n",
       "    .dataframe tbody tr th {\n",
       "        vertical-align: top;\n",
       "    }\n",
       "\n",
       "    .dataframe thead th {\n",
       "        text-align: right;\n",
       "    }\n",
       "</style>\n",
       "<table border=\"1\" class=\"dataframe\">\n",
       "  <thead>\n",
       "    <tr style=\"text-align: right;\">\n",
       "      <th></th>\n",
       "      <th>c_abrv</th>\n",
       "      <th>v228b</th>\n",
       "      <th>v231b</th>\n",
       "      <th>v233b</th>\n",
       "      <th>v251b</th>\n",
       "      <th>v275b_N2</th>\n",
       "      <th>v275b_N1</th>\n",
       "      <th>v281a</th>\n",
       "    </tr>\n",
       "  </thead>\n",
       "  <tbody>\n",
       "    <tr>\n",
       "      <th>0</th>\n",
       "      <td>UA</td>\n",
       "      <td>-3</td>\n",
       "      <td>-3</td>\n",
       "      <td>-3</td>\n",
       "      <td>-3</td>\n",
       "      <td>UA13</td>\n",
       "      <td>UA1</td>\n",
       "      <td>uk</td>\n",
       "    </tr>\n",
       "    <tr>\n",
       "      <th>1</th>\n",
       "      <td>RS</td>\n",
       "      <td>-3</td>\n",
       "      <td>-3</td>\n",
       "      <td>-3</td>\n",
       "      <td>-3</td>\n",
       "      <td>RS12</td>\n",
       "      <td>RS1</td>\n",
       "      <td>sr</td>\n",
       "    </tr>\n",
       "    <tr>\n",
       "      <th>2</th>\n",
       "      <td>IS</td>\n",
       "      <td>-3</td>\n",
       "      <td>-3</td>\n",
       "      <td>-3</td>\n",
       "      <td>-3</td>\n",
       "      <td>IS00</td>\n",
       "      <td>IS0</td>\n",
       "      <td>is</td>\n",
       "    </tr>\n",
       "    <tr>\n",
       "      <th>3</th>\n",
       "      <td>LV</td>\n",
       "      <td>-3</td>\n",
       "      <td>-3</td>\n",
       "      <td>-3</td>\n",
       "      <td>-1</td>\n",
       "      <td>LV00</td>\n",
       "      <td>LV0</td>\n",
       "      <td>lv</td>\n",
       "    </tr>\n",
       "    <tr>\n",
       "      <th>4</th>\n",
       "      <td>AT</td>\n",
       "      <td>-3</td>\n",
       "      <td>-3</td>\n",
       "      <td>FR</td>\n",
       "      <td>-3</td>\n",
       "      <td>AT13</td>\n",
       "      <td>AT1</td>\n",
       "      <td>de</td>\n",
       "    </tr>\n",
       "  </tbody>\n",
       "</table>\n",
       "</div>"
      ],
      "text/plain": [
       "  c_abrv v228b v231b v233b v251b v275b_N2 v275b_N1 v281a\n",
       "0     UA    -3    -3    -3    -3     UA13      UA1    uk\n",
       "1     RS    -3    -3    -3    -3     RS12      RS1    sr\n",
       "2     IS    -3    -3    -3    -3     IS00      IS0    is\n",
       "3     LV    -3    -3    -3    -1     LV00      LV0    lv\n",
       "4     AT    -3    -3    FR    -3     AT13      AT1    de"
      ]
     },
     "execution_count": 8,
     "metadata": {},
     "output_type": "execute_result"
    }
   ],
   "source": [
    "df.select_dtypes(include=['object']).head()"
   ]
  },
  {
   "cell_type": "code",
   "execution_count": 9,
   "id": "b92bd358",
   "metadata": {},
   "outputs": [
    {
     "data": {
      "text/plain": [
       "int64      423\n",
       "float64      7\n",
       "dtype: int64"
      ]
     },
     "execution_count": 9,
     "metadata": {},
     "output_type": "execute_result"
    }
   ],
   "source": [
    "df = df.select_dtypes(exclude=['object']) # Do this every time\n",
    "df.dtypes.value_counts()"
   ]
  },
  {
   "cell_type": "code",
   "execution_count": 26,
   "id": "64c0de93",
   "metadata": {},
   "outputs": [
    {
     "data": {
      "text/plain": [
       "['v228b_r', 'v231b_r', 'v233b_r', 'v251b_r', 'v261_ppp', 'v278c_r', 'v279c_r']"
      ]
     },
     "execution_count": 26,
     "metadata": {},
     "output_type": "execute_result"
    }
   ],
   "source": [
    "df.select_dtypes(include=['float']).columns.tolist() "
   ]
  },
  {
   "cell_type": "code",
   "execution_count": 21,
   "id": "5f6441a6",
   "metadata": {},
   "outputs": [
    {
     "data": {
      "text/plain": [
       "['v228b_r', 'v231b_r', 'v233b_r', 'v251b_r']"
      ]
     },
     "execution_count": 21,
     "metadata": {},
     "output_type": "execute_result"
    }
   ],
   "source": [
    "df.columns[df.isnull().any()].tolist()"
   ]
  },
  {
   "cell_type": "code",
   "execution_count": 10,
   "id": "706a6534",
   "metadata": {},
   "outputs": [
    {
     "data": {
      "text/plain": [
       "0"
      ]
     },
     "execution_count": 10,
     "metadata": {},
     "output_type": "execute_result"
    }
   ],
   "source": [
    "df.fillna(-3, inplace=True) # Do this every time\n",
    "df.isnull().sum().sum()"
   ]
  },
  {
   "cell_type": "code",
   "execution_count": 3,
   "id": "a3623797",
   "metadata": {},
   "outputs": [
    {
     "data": {
      "text/html": [
       "<div>\n",
       "<style scoped>\n",
       "    .dataframe tbody tr th:only-of-type {\n",
       "        vertical-align: middle;\n",
       "    }\n",
       "\n",
       "    .dataframe tbody tr th {\n",
       "        vertical-align: top;\n",
       "    }\n",
       "\n",
       "    .dataframe thead th {\n",
       "        text-align: right;\n",
       "    }\n",
       "</style>\n",
       "<table border=\"1\" class=\"dataframe\">\n",
       "  <thead>\n",
       "    <tr style=\"text-align: right;\">\n",
       "      <th></th>\n",
       "      <th>id</th>\n",
       "      <th>label</th>\n",
       "    </tr>\n",
       "  </thead>\n",
       "  <tbody>\n",
       "    <tr>\n",
       "      <th>0</th>\n",
       "      <td>0</td>\n",
       "      <td>2</td>\n",
       "    </tr>\n",
       "    <tr>\n",
       "      <th>1</th>\n",
       "      <td>1</td>\n",
       "      <td>2</td>\n",
       "    </tr>\n",
       "    <tr>\n",
       "      <th>2</th>\n",
       "      <td>2</td>\n",
       "      <td>4</td>\n",
       "    </tr>\n",
       "    <tr>\n",
       "      <th>3</th>\n",
       "      <td>3</td>\n",
       "      <td>3</td>\n",
       "    </tr>\n",
       "    <tr>\n",
       "      <th>4</th>\n",
       "      <td>4</td>\n",
       "      <td>3</td>\n",
       "    </tr>\n",
       "  </tbody>\n",
       "</table>\n",
       "</div>"
      ],
      "text/plain": [
       "   id  label\n",
       "0   0      2\n",
       "1   1      2\n",
       "2   2      4\n",
       "3   3      3\n",
       "4   4      3"
      ]
     },
     "execution_count": 3,
     "metadata": {},
     "output_type": "execute_result"
    }
   ],
   "source": [
    "# y_train\n",
    "y_train = pd.read_csv(\"y_train.csv\")\n",
    "y_train.head()"
   ]
  },
  {
   "cell_type": "code",
   "execution_count": 16,
   "id": "74aa9b1d",
   "metadata": {},
   "outputs": [
    {
     "data": {
      "text/plain": [
       "0"
      ]
     },
     "execution_count": 16,
     "metadata": {},
     "output_type": "execute_result"
    }
   ],
   "source": [
    "y_train.isnull().sum().sum()"
   ]
  },
  {
   "cell_type": "code",
   "execution_count": 17,
   "id": "7114863e",
   "metadata": {},
   "outputs": [
    {
     "data": {
      "text/html": [
       "<div>\n",
       "<style scoped>\n",
       "    .dataframe tbody tr th:only-of-type {\n",
       "        vertical-align: middle;\n",
       "    }\n",
       "\n",
       "    .dataframe tbody tr th {\n",
       "        vertical-align: top;\n",
       "    }\n",
       "\n",
       "    .dataframe thead th {\n",
       "        text-align: right;\n",
       "    }\n",
       "</style>\n",
       "<table border=\"1\" class=\"dataframe\">\n",
       "  <thead>\n",
       "    <tr style=\"text-align: right;\">\n",
       "      <th></th>\n",
       "      <th>id</th>\n",
       "      <th>year</th>\n",
       "      <th>fw_start</th>\n",
       "      <th>fw_end</th>\n",
       "      <th>country</th>\n",
       "      <th>c_abrv</th>\n",
       "      <th>v1</th>\n",
       "      <th>v2</th>\n",
       "      <th>v3</th>\n",
       "      <th>v4</th>\n",
       "      <th>...</th>\n",
       "      <th>v278b</th>\n",
       "      <th>v278c_r</th>\n",
       "      <th>v279a</th>\n",
       "      <th>v279b</th>\n",
       "      <th>v279c_r</th>\n",
       "      <th>v279d_r</th>\n",
       "      <th>v280</th>\n",
       "      <th>v281a</th>\n",
       "      <th>v281a_r</th>\n",
       "      <th>v282</th>\n",
       "    </tr>\n",
       "  </thead>\n",
       "  <tbody>\n",
       "    <tr>\n",
       "      <th>0</th>\n",
       "      <td>0</td>\n",
       "      <td>2019</td>\n",
       "      <td>201907</td>\n",
       "      <td>201912</td>\n",
       "      <td>499</td>\n",
       "      <td>ME</td>\n",
       "      <td>1</td>\n",
       "      <td>1</td>\n",
       "      <td>1</td>\n",
       "      <td>1</td>\n",
       "      <td>...</td>\n",
       "      <td>13</td>\n",
       "      <td>15.13</td>\n",
       "      <td>16</td>\n",
       "      <td>42</td>\n",
       "      <td>16.42</td>\n",
       "      <td>89</td>\n",
       "      <td>2</td>\n",
       "      <td>cnr</td>\n",
       "      <td>186</td>\n",
       "      <td>1</td>\n",
       "    </tr>\n",
       "    <tr>\n",
       "      <th>1</th>\n",
       "      <td>1</td>\n",
       "      <td>2019</td>\n",
       "      <td>201907</td>\n",
       "      <td>201912</td>\n",
       "      <td>499</td>\n",
       "      <td>ME</td>\n",
       "      <td>2</td>\n",
       "      <td>1</td>\n",
       "      <td>2</td>\n",
       "      <td>2</td>\n",
       "      <td>...</td>\n",
       "      <td>33</td>\n",
       "      <td>12.33</td>\n",
       "      <td>13</td>\n",
       "      <td>58</td>\n",
       "      <td>13.58</td>\n",
       "      <td>85</td>\n",
       "      <td>2</td>\n",
       "      <td>cnr</td>\n",
       "      <td>186</td>\n",
       "      <td>1</td>\n",
       "    </tr>\n",
       "    <tr>\n",
       "      <th>2</th>\n",
       "      <td>2</td>\n",
       "      <td>2019</td>\n",
       "      <td>201907</td>\n",
       "      <td>201912</td>\n",
       "      <td>499</td>\n",
       "      <td>ME</td>\n",
       "      <td>1</td>\n",
       "      <td>1</td>\n",
       "      <td>2</td>\n",
       "      <td>2</td>\n",
       "      <td>...</td>\n",
       "      <td>9</td>\n",
       "      <td>11.09</td>\n",
       "      <td>12</td>\n",
       "      <td>3</td>\n",
       "      <td>12.03</td>\n",
       "      <td>54</td>\n",
       "      <td>2</td>\n",
       "      <td>cnr</td>\n",
       "      <td>186</td>\n",
       "      <td>1</td>\n",
       "    </tr>\n",
       "    <tr>\n",
       "      <th>3</th>\n",
       "      <td>3</td>\n",
       "      <td>2019</td>\n",
       "      <td>201907</td>\n",
       "      <td>201912</td>\n",
       "      <td>499</td>\n",
       "      <td>ME</td>\n",
       "      <td>1</td>\n",
       "      <td>1</td>\n",
       "      <td>2</td>\n",
       "      <td>1</td>\n",
       "      <td>...</td>\n",
       "      <td>15</td>\n",
       "      <td>10.15</td>\n",
       "      <td>11</td>\n",
       "      <td>18</td>\n",
       "      <td>11.18</td>\n",
       "      <td>63</td>\n",
       "      <td>2</td>\n",
       "      <td>cnr</td>\n",
       "      <td>186</td>\n",
       "      <td>1</td>\n",
       "    </tr>\n",
       "    <tr>\n",
       "      <th>4</th>\n",
       "      <td>4</td>\n",
       "      <td>2019</td>\n",
       "      <td>201907</td>\n",
       "      <td>201912</td>\n",
       "      <td>499</td>\n",
       "      <td>ME</td>\n",
       "      <td>1</td>\n",
       "      <td>1</td>\n",
       "      <td>1</td>\n",
       "      <td>1</td>\n",
       "      <td>...</td>\n",
       "      <td>10</td>\n",
       "      <td>13.10</td>\n",
       "      <td>14</td>\n",
       "      <td>55</td>\n",
       "      <td>14.55</td>\n",
       "      <td>105</td>\n",
       "      <td>1</td>\n",
       "      <td>cnr</td>\n",
       "      <td>186</td>\n",
       "      <td>4</td>\n",
       "    </tr>\n",
       "  </tbody>\n",
       "</table>\n",
       "<p>5 rows × 438 columns</p>\n",
       "</div>"
      ],
      "text/plain": [
       "   id  year  fw_start  fw_end  country c_abrv  v1  v2  v3  v4  ...  v278b  \\\n",
       "0   0  2019    201907  201912      499     ME   1   1   1   1  ...     13   \n",
       "1   1  2019    201907  201912      499     ME   2   1   2   2  ...     33   \n",
       "2   2  2019    201907  201912      499     ME   1   1   2   2  ...      9   \n",
       "3   3  2019    201907  201912      499     ME   1   1   2   1  ...     15   \n",
       "4   4  2019    201907  201912      499     ME   1   1   1   1  ...     10   \n",
       "\n",
       "   v278c_r  v279a  v279b  v279c_r  v279d_r  v280  v281a  v281a_r  v282  \n",
       "0    15.13     16     42    16.42       89     2    cnr      186     1  \n",
       "1    12.33     13     58    13.58       85     2    cnr      186     1  \n",
       "2    11.09     12      3    12.03       54     2    cnr      186     1  \n",
       "3    10.15     11     18    11.18       63     2    cnr      186     1  \n",
       "4    13.10     14     55    14.55      105     1    cnr      186     4  \n",
       "\n",
       "[5 rows x 438 columns]"
      ]
     },
     "execution_count": 17,
     "metadata": {},
     "output_type": "execute_result"
    }
   ],
   "source": [
    "# x_test\n",
    "x_test = pd.read_csv(\"X_test.csv\")\n",
    "x_test.head()"
   ]
  },
  {
   "cell_type": "code",
   "execution_count": 18,
   "id": "831dd88b",
   "metadata": {},
   "outputs": [
    {
     "data": {
      "text/plain": [
       "int64      426\n",
       "object       8\n",
       "float64      4\n",
       "dtype: int64"
      ]
     },
     "execution_count": 18,
     "metadata": {},
     "output_type": "execute_result"
    }
   ],
   "source": [
    "x_test.dtypes.value_counts()"
   ]
  },
  {
   "cell_type": "code",
   "execution_count": 19,
   "id": "f9d7b1b7",
   "metadata": {},
   "outputs": [
    {
     "data": {
      "text/plain": [
       "int64      426\n",
       "float64      4\n",
       "dtype: int64"
      ]
     },
     "execution_count": 19,
     "metadata": {},
     "output_type": "execute_result"
    }
   ],
   "source": [
    "x_test = x_test.select_dtypes(exclude=['object']) # Do this every time\n",
    "x_test.dtypes.value_counts()"
   ]
  },
  {
   "cell_type": "code",
   "execution_count": 25,
   "id": "cb914936",
   "metadata": {},
   "outputs": [
    {
     "data": {
      "text/plain": [
       "['v233b_r', 'v261_ppp', 'v278c_r', 'v279c_r']"
      ]
     },
     "execution_count": 25,
     "metadata": {},
     "output_type": "execute_result"
    }
   ],
   "source": [
    "x_test.select_dtypes(include=['float']).columns.tolist()"
   ]
  },
  {
   "cell_type": "code",
   "execution_count": 22,
   "id": "7e0582d4",
   "metadata": {},
   "outputs": [
    {
     "data": {
      "text/plain": [
       "['v233b_r']"
      ]
     },
     "execution_count": 22,
     "metadata": {},
     "output_type": "execute_result"
    }
   ],
   "source": [
    "x_test.columns[x_test.isnull().any()].tolist()"
   ]
  },
  {
   "cell_type": "code",
   "execution_count": 23,
   "id": "fdceec61",
   "metadata": {},
   "outputs": [
    {
     "data": {
      "text/plain": [
       "0"
      ]
     },
     "execution_count": 23,
     "metadata": {},
     "output_type": "execute_result"
    }
   ],
   "source": [
    "x_test.fillna(-3, inplace=True) # Do this every time\n",
    "x_test.isnull().sum().sum()"
   ]
  },
  {
   "cell_type": "code",
   "execution_count": 12,
   "id": "88b542d4",
   "metadata": {},
   "outputs": [
    {
     "data": {
      "text/plain": [
       "array([[ 2.02000e+03,  2.02011e+05,  2.02011e+05, ...,  1.00000e+00,\n",
       "         4.75000e+02,  3.20000e+01],\n",
       "       [ 2.01800e+03,  2.01809e+05,  2.01811e+05, ...,  2.00000e+00,\n",
       "         3.97000e+02,  3.00000e+00],\n",
       "       [ 2.01700e+03,  2.01706e+05,  2.01803e+05, ...,  2.00000e+00,\n",
       "         7.20000e+01,  8.70000e+01],\n",
       "       ...,\n",
       "       [ 2.01800e+03,  2.01802e+05,  2.01807e+05, ...,  1.00000e+00,\n",
       "         1.30000e+01,  1.00000e+01],\n",
       "       [ 2.01700e+03,  2.01709e+05,  2.01801e+05, ..., -4.00000e+00,\n",
       "         3.20000e+01, -4.00000e+00],\n",
       "       [ 2.01800e+03,  2.01802e+05,  2.01807e+05, ...,  1.00000e+00,\n",
       "         1.28000e+02,  7.82300e+03]])"
      ]
     },
     "execution_count": 12,
     "metadata": {},
     "output_type": "execute_result"
    }
   ],
   "source": [
    "X_tr = df.values[:,1:] # Do this every time\n",
    "X_tr"
   ]
  },
  {
   "cell_type": "code",
   "execution_count": 13,
   "id": "4099ee97",
   "metadata": {},
   "outputs": [
    {
     "data": {
      "text/plain": [
       "array([2, 2, 4, ..., 4, 4, 3], dtype=int64)"
      ]
     },
     "execution_count": 13,
     "metadata": {},
     "output_type": "execute_result"
    }
   ],
   "source": [
    "y_tr = y_train.values[:,1] # Do this every time\n",
    "y_tr"
   ]
  },
  {
   "cell_type": "code",
   "execution_count": 15,
   "id": "6d054895",
   "metadata": {},
   "outputs": [
    {
     "data": {
      "text/plain": [
       "0"
      ]
     },
     "execution_count": 15,
     "metadata": {},
     "output_type": "execute_result"
    }
   ],
   "source": [
    "y_tr[y_tr == -1] = 0 # Do this every time\n",
    "y_tr.min()"
   ]
  }
 ],
 "metadata": {
  "kernelspec": {
   "display_name": "Python 3 (ipykernel)",
   "language": "python",
   "name": "python3"
  },
  "language_info": {
   "codemirror_mode": {
    "name": "ipython",
    "version": 3
   },
   "file_extension": ".py",
   "mimetype": "text/x-python",
   "name": "python",
   "nbconvert_exporter": "python",
   "pygments_lexer": "ipython3",
   "version": "3.11.4"
  }
 },
 "nbformat": 4,
 "nbformat_minor": 5
}
