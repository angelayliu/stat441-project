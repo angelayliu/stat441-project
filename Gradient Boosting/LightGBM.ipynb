{
 "cells": [
  {
   "cell_type": "code",
   "execution_count": 1,
   "id": "31e0a64e",
   "metadata": {},
   "outputs": [],
   "source": [
    "import pandas as pd \n",
    "import numpy as np\n",
    "import matplotlib.pyplot as plt\n",
    "import lightgbm as lgb\n",
    "from sklearn.model_selection import GridSearchCV, StratifiedKFold\n",
    "from sklearn.metrics import log_loss # positive value"
   ]
  },
  {
   "cell_type": "code",
   "execution_count": 8,
   "id": "e35e0b5e",
   "metadata": {},
   "outputs": [],
   "source": [
    "X_train = pd.read_csv(\"../X_train.csv\")\n",
    "y_train = pd.read_csv(\"../y_train.csv\")\n",
    "X_test = pd.read_csv(\"../X_test.csv\")\n",
    "\n",
    "X_train = X_train.select_dtypes(exclude=['object'])\n",
    "X_train.fillna(-3, inplace=True)\n",
    "X_tr = X_train.values[:,1:]\n",
    "X_tr[X_tr < -2] = -2\n",
    "\n",
    "y_tr = y_train.values[:,1]\n",
    "y_tr[y_tr == -1] = 0\n",
    "\n",
    "X_test = X_test.select_dtypes(exclude=['object'])\n",
    "X_test.fillna(-3, inplace=True)\n",
    "X_ts = X_test.values[:,1:]\n",
    "X_ts[X_ts < -2] = -2"
   ]
  },
  {
   "cell_type": "code",
   "execution_count": 13,
   "id": "1e5b3688",
   "metadata": {},
   "outputs": [
    {
     "name": "stdout",
     "output_type": "stream",
     "text": [
      "\n",
      "Best: -0.842190 using {'feature_fraction': 0.26, 'learning_rate': 0.084, 'max_depth': 6, 'n_estimators': 175, 'num_leaves': 27, 'subsample': 0.5}\n"
     ]
    }
   ],
   "source": [
    "# Parameter tuning\n",
    "kfold = StratifiedKFold(n_splits=5, shuffle=True, random_state=441)\n",
    "param_grid = {\n",
    "    'num_leaves': [27], #25, 27, 30\n",
    "        #[25, 27, 30] -0.842190 using {'feature_fraction': 0.26, 'learning_rate': 0.084, 'max_depth': 6, 'n_estimators': 175, 'num_leaves': 27, 'subsample': 0.0005}\n",
    "        #[22, 25, 27] -0.843146 {'feature_fraction': 0.26, 'learning_rate': 0.087, 'max_depth': 6, 'n_estimators': 150, 'num_leaves': 27, 'subsample': 0.003}\n",
    "        #[22, 25, 27] -0.844907 {'feature_fraction': 0.26, 'learning_rate': 0.087, 'max_depth': 8, 'n_estimators': 137, 'num_leaves': 25, 'subsample': 0.015}\n",
    "        #[22, 25, 27] -0.847141 {'feature_fraction': 0.35, 'learning_rate': 0.1, 'max_depth': 10, 'n_estimators': 125, 'num_leaves': 25, 'subsample': 0.12}\n",
    "        #[20, 25, 28] -0.849440 {'feature_fraction': 0.5, 'learning_rate': 0.1, 'max_depth': 13, 'n_estimators': 100, 'num_leaves': 25, 'subsample': 0.25}\n",
    "        #[20, 25, 28] -0.853565 {'learning_rate': 0.1, 'n_estimators': 100, 'num_leaves': 25, 'subsample': 0.25}\n",
    "        #[12, 20, 25] -0.8535648959342812 {'num_leaves': 25}\n",
    "        #[5, 20, 31] {'num_leaves': 20}\n",
    "    'learning_rate': [0.084], #0.08, 0.084, 0.087\n",
    "        #[0.08, 0.084, 0.087] -0.842190 {'feature_fraction': 0.26, 'learning_rate': 0.084, 'max_depth': 6, 'n_estimators': 175, 'num_leaves': 27, 'subsample': 0.0005}\n",
    "        #[0.084, 0.087, 0.09] -0.842956 {'feature_fraction': 0.26, 'learning_rate': 0.084, 'max_depth': 6, 'n_estimators': 150, 'num_leaves': 27, 'subsample': 0.003}\n",
    "        #[0.084, 0.087, 0.09] -0.844907 {'feature_fraction': 0.26, 'learning_rate': 0.087, 'max_depth': 8, 'n_estimators': 137, 'num_leaves': 25, 'subsample': 0.015}\n",
    "        #[0.082, 0.087, 0.093] -0.845199 {'feature_fraction': 0.26, 'learning_rate': 0.087, 'max_depth': 10, 'n_estimators': 131, 'num_leaves': 25, 'subsample': 0.03}\n",
    "        #[0.087, 0.1, 0.125] -0.846869 {'feature_fraction': 0.35, 'learning_rate': 0.087, 'max_depth': 10, 'n_estimators': 125, 'num_leaves': 25, 'subsample': 0.06}\n",
    "        #[0.075, 0.1, 0.15] 0.849440 using {'feature_fraction': 0.5, 'learning_rate': 0.1, 'max_depth': 13, 'n_estimators': 100, 'num_leaves': 25, 'subsample': 0.25}\n",
    "        #[0.05, 0.1, 0.2] -0.853565 {'learning_rate': 0.1, 'n_estimators': 100, 'num_leaves': 25, 'subsample': 0.5}\n",
    "        #[0.01, 0.1, 1] {'learning_rate': 0.1}\n",
    "    'n_estimators': [175], #150, 175, 200\n",
    "        #[150, 175, 200] -0.842190 {'feature_fraction': 0.26, 'learning_rate': 0.084, 'max_depth': 6, 'n_estimators': 175, 'num_leaves': 27, 'subsample': 0.001}\n",
    "        #[143, 150, 175] -0.842190 {'feature_fraction': 0.26, 'learning_rate': 0.084, 'max_depth': 6, 'n_estimators': 175, 'num_leaves': 27, 'subsample': 0.003}\n",
    "        #[137, 143, 150] -0.843665 {'feature_fraction': 0.26, 'learning_rate': 0.087, 'max_depth': 6, 'n_estimators': 150, 'num_leaves': 25, 'subsample': 0.007}\n",
    "        #[131, 137, 143] -0.844515 {'feature_fraction': 0.26, 'learning_rate': 0.087, 'max_depth': 8, 'n_estimators': 143, 'num_leaves': 25, 'subsample': 0.015}\n",
    "        #[125, 131, 137] -0.845094 {'feature_fraction': 0.26, 'learning_rate': 0.087, 'max_depth': 10, 'n_estimators': 137, 'num_leaves': 25, 'subsample': 0.015}\n",
    "        #[119, 125, 131] -0.846651 {'feature_fraction': 0.35, 'learning_rate': 0.087, 'max_depth': 10, 'n_estimators': 131, 'num_leaves': 25, 'subsample': 0.03}\n",
    "        #[112, 125, 138] -0.847141 {'feature_fraction': 0.35, 'learning_rate': 0.1, 'max_depth': 10, 'n_estimators': 125, 'num_leaves': 25, 'subsample': 0.06}\n",
    "        #[87, 100, 125] -0.848581 {'feature_fraction': 0.5, 'learning_rate': 0.1, 'max_depth': 13, 'n_estimators': 125, 'num_leaves': 25, 'subsample': 0.25}\n",
    "        #[75, 100, 150] -0.853565 {'learning_rate': 0.1, 'n_estimators': 100, 'num_leaves': 25, 'subsample': 0.5}\n",
    "        #[10, 50, 100] -0.8540922517411783 {'n_estimators': 100}\n",
    "    'subsample': [0.5], #0.0001, 0.0005, 0.001\n",
    "        #[0.0005, 0.001, 0.002] -0.842190 {'feature_fraction': 0.26, 'learning_rate': 0.084, 'max_depth': 6, 'n_estimators': 175, 'num_leaves': 27, 'subsample': 0.0005}\n",
    "        #[0.001, 0.003, 0.007] -0.842190 {'feature_fraction': 0.26, 'learning_rate': 0.084, 'max_depth': 6, 'n_estimators': 175, 'num_leaves': 27, 'subsample': 0.001}\n",
    "        #[0.003, 0.007, 0.01] -0.843665 {'feature_fraction': 0.26, 'learning_rate': 0.087, 'max_depth': 6, 'n_estimators': 150, 'num_leaves': 25, 'subsample': 0.003}\n",
    "        #[0.007, 0.015, 0.023] -0.844515 {'feature_fraction': 0.26, 'learning_rate': 0.087, 'max_depth': 8, 'n_estimators': 143, 'num_leaves': 25, 'subsample': 0.007}\n",
    "        #[0.015, 0.03, 0.045] -0.845199 {'feature_fraction': 0.26, 'learning_rate': 0.087, 'max_depth': 10, 'n_estimators': 131, 'num_leaves': 25, 'subsample': 0.015}\n",
    "        #[0.03, 0.06, 0.09] -0.846869 {'feature_fraction': 0.35, 'learning_rate': 0.087, 'max_depth': 10, 'n_estimators': 125, 'num_leaves': 25, 'subsample': 0.03}\n",
    "        #[0.06, 0.12, 0.18] -0.847141 {'feature_fraction': 0.35, 'learning_rate': 0.1, 'max_depth': 10, 'n_estimators': 125, 'num_leaves': 25, 'subsample': 0.06}\n",
    "        #[0.12, 0.25, 0.37] -0.848581 {'feature_fraction': 0.5, 'learning_rate': 0.1, 'max_depth': 13, 'n_estimators': 125, 'num_leaves': 25, 'subsample': 0.12}\n",
    "        #[0.25, 0.5, 0.75] -0.853565 {'learning_rate': 0.1, 'n_estimators': 100, 'num_leaves': 25, 'subsample': 0.25} \n",
    "        #[0.5, 0.75, 1] -0.853565 {'learning_rate': 0.1, 'n_estimators': 100, 'num_leaves': 25, 'subsample': 0.5}\n",
    "    'max_depth': [6], #4, 6, 8\n",
    "        #[4, 6, 8] -0.842190 {'feature_fraction': 0.26, 'learning_rate': 0.084, 'max_depth': 6, 'n_estimators': 175, 'num_leaves': 27, 'subsample': 0.001}\n",
    "        #[4, 6, 8] -0.843665 {'feature_fraction': 0.26, 'learning_rate': 0.087, 'max_depth': 6, 'n_estimators': 150, 'num_leaves': 25, 'subsample': 0.003}\n",
    "        #[6, 8, 10] -0.843875 using {'feature_fraction': 0.26, 'learning_rate': 0.087, 'max_depth': 6, 'n_estimators': 143, 'num_leaves': 25, 'subsample': 0.007}\n",
    "        #[8, 10, 12] -0.844907 using {'feature_fraction': 0.26, 'learning_rate': 0.087, 'max_depth': 8, 'n_estimators': 137, 'num_leaves': 25, 'subsample': 0.015}\n",
    "        #[8, 10, 12] -0.847141 {'feature_fraction': 0.35, 'learning_rate': 0.1, 'max_depth': 10, 'n_estimators': 125, 'num_leaves': 25, 'subsample': 0.06}\n",
    "        #[10, 13, 15] -0.847141 {'feature_fraction': 0.35, 'learning_rate': 0.1, 'max_depth': 10, 'n_estimators': 125, 'num_leaves': 25, 'subsample': 0.12}\n",
    "        #[7, 10, 13] -0.849440 {'feature_fraction': 0.5, 'learning_rate': 0.1, 'max_depth': 13, 'n_estimators': 100, 'num_leaves': 25, 'subsample': 0.25}\n",
    "        #[5, 10, 15] -0.849855 using {'feature_fraction': 0.5, 'learning_rate': 0.1, 'max_depth': 10, 'n_estimators': 100, 'num_leaves': 25, 'subsample': 0.25}\n",
    "        #[10, 20, 30] -0.852579 {'learning_rate': 0.1, 'max_depth': 10, 'n_estimators': 100, 'num_leaves': 25, 'subsample': 0.25}\n",
    "    'feature_fraction': [0.26] # 0.23, 0.26, 0.29\n",
    "        #[0.23, 0.26, 0.29] -0.842190 using {'feature_fraction': 0.26, 'learning_rate': 0.084, 'max_depth': 6, 'n_estimators': 175, 'num_leaves': 27, 'subsample': 0.001}\n",
    "        #[0.23, 0.26, 0.29] -0.843665 using {'feature_fraction': 0.26, 'learning_rate': 0.087, 'max_depth': 6, 'n_estimators': 150, 'num_leaves': 25, 'subsample': 0.003}\n",
    "            #[0.21, 0.26, 0.31] -0.845094 {'feature_fraction': 0.26, 'learning_rate': 0.087, 'max_depth': 10, 'n_estimators': 137, 'num_leaves': 25, 'subsample': 0.015}\n",
    "        #[0.21, 0.26, 0.31] -0.845199 {'feature_fraction': 0.26, 'learning_rate': 0.087, 'max_depth': 10, 'n_estimators': 131, 'num_leaves': 25, 'subsample': 0.015}\n",
    "        #[0.26, 0.35, 0.39] -0.845199 {'feature_fraction': 0.26, 'learning_rate': 0.087, 'max_depth': 10, 'n_estimators': 131, 'num_leaves': 25, 'subsample': 0.03}\n",
    "        #[0.17, 0.35, 0.43] -0.847141 {'feature_fraction': 0.35, 'learning_rate': 0.1, 'max_depth': 10, 'n_estimators': 125, 'num_leaves': 25, 'subsample': 0.06}\n",
    "        #[0.35, 0.5, 0.75] -0.847515 {'feature_fraction': 0.35, 'learning_rate': 0.1, 'max_depth': 13, 'n_estimators': 125, 'num_leaves': 25, 'subsample': 0.12}\n",
    "        #[0.2, 0.5, 1] -0.849855 using {'feature_fraction': 0.5, 'learning_rate': 0.1, 'max_depth': 10, 'n_estimators': 100, 'num_leaves': 25, 'subsample': 0.25}\n",
    "        #[0.2, 0.5, 1] -0.849855 {'feature_fraction': 0.5, 'learning_rate': 0.1, 'max_depth': 10, 'n_estimators': 100, 'num_leaves': 25, 'subsample': 0.25}\n",
    "    \n",
    "    #'min_data_in_leaf': [20]\n",
    "    #'early_stopping_rounds': [10]\n",
    "}\n",
    "\n",
    "lgb_classifier = lgb.LGBMClassifier(objective='multiclass', num_class=5, boosting_type='gbdt',\n",
    "                                    verbose=-1, force_col_wise=True)\n",
    "grid_search = GridSearchCV(estimator=lgb_classifier, param_grid=param_grid,\n",
    "                           scoring='neg_log_loss', cv=kfold)\n",
    "grid_result = grid_search.fit(X_tr, y_tr)\n",
    "\n",
    "print(\"\\nBest: %f using %s\" % (grid_result.best_score_, grid_result.best_params_))"
   ]
  },
  {
   "cell_type": "code",
   "execution_count": 7,
   "id": "2965a911",
   "metadata": {},
   "outputs": [
    {
     "name": "stdout",
     "output_type": "stream",
     "text": [
      "0.8894050277240877\n"
     ]
    }
   ],
   "source": [
    "### Testing to see how\n",
    "### (default model: num_leaves=31, learning_rate=0.1, n_estimators=100) performs without tuning\n",
    "\n",
    "# 0.8544751024153472\n",
    "    # {'boosting_type': 'gbdt'}\n",
    "# 0.857531912573044 \n",
    "    # {'boosting_type': 'dart', 'xgboost_dart_mode': True}\n",
    "# 0.8748917488198975\n",
    "    # {'boosting_type': 'dart'}\n",
    "# 0.886060608787511 \n",
    "    # {'boosting_type': 'dart', 'xgboost_dart_mode': True, 'data_sample_strategy': 'goss'}\n",
    "# 0.8894050277240877\n",
    "    # {'boosting_type': 'dart', 'data_sample_strategy': 'goss'}\n",
    "# 0.8987244980945901  \n",
    "    # {'boosting_type': 'gbdt', 'data_sample_strategy': 'goss'}\n",
    "\n",
    "\n",
    "kf = StratifiedKFold(n_splits=5, shuffle=True, random_state=441)\n",
    "params = {\n",
    "    'objective': 'multiclass',\n",
    "    'num_class': 5,\n",
    "    'metric': 'multi_logloss',\n",
    "    'boosting_type': 'dart', #'xgboost_dart_mode': True, \n",
    "    'data_sample_strategy': 'goss',\n",
    "    'verbose': 0\n",
    "}\n",
    "metrics = []\n",
    "for train_index, test_index in kf.split(X_tr, y_tr):\n",
    "    X_train, X_test = X_tr[train_index], X_tr[test_index]\n",
    "    y_train, y_test = y_tr[train_index], y_tr[test_index]\n",
    "\n",
    "    train_data = lgb.Dataset(X_train, label=y_train)\n",
    "    test_data = lgb.Dataset(X_test, label=y_test, reference=train_data)\n",
    "\n",
    "    num_round = 100\n",
    "    bst = lgb.train(params, train_data, num_round)\n",
    "\n",
    "    y_pred = bst.predict(X_test)\n",
    "\n",
    "    score = log_loss(y_test, y_pred, labels=[0,1,2,3,4])\n",
    "    metrics.append(score)\n",
    "\n",
    "print(np.mean(metrics))"
   ]
  },
  {
   "cell_type": "code",
   "execution_count": 17,
   "id": "02e6a714",
   "metadata": {},
   "outputs": [
    {
     "data": {
      "text/plain": [
       "array([[5.88573755e-04, 8.21900466e-01, 9.71159150e-02, 6.59558006e-02,\n",
       "        1.44392448e-02],\n",
       "       [4.18485060e-03, 7.12034304e-02, 8.51538678e-01, 6.65413341e-02,\n",
       "        6.53170717e-03],\n",
       "       [4.18026714e-03, 2.01251421e-01, 4.75414906e-01, 2.97606945e-01,\n",
       "        2.15464605e-02],\n",
       "       ...,\n",
       "       [2.34818046e-03, 1.31966313e-01, 6.29648481e-01, 2.23120127e-01,\n",
       "        1.29168978e-02],\n",
       "       [7.63572736e-03, 9.72930498e-03, 1.71190813e-01, 7.58508119e-01,\n",
       "        5.29360359e-02],\n",
       "       [2.62633792e-04, 8.23884746e-01, 1.68267606e-01, 6.51327308e-03,\n",
       "        1.07174118e-03]])"
      ]
     },
     "execution_count": 17,
     "metadata": {},
     "output_type": "execute_result"
    }
   ],
   "source": [
    "# Using default num_leaves and learning_rate:\n",
    "    # -0.846532 using {'feature_fraction': 0.26, 'learning_rate': 0.1, 'max_depth': 6, 'n_estimators': 175, 'num_leaves': 31, 'subsample': 0.5}\n",
    "best_model = lgb.LGBMClassifier(objective='multiclass', num_class=5, boosting_type='gbdt', \n",
    "                                    feature_fraction=0.26,\n",
    "                                    num_leaves=27, # Close to default\n",
    "                                    learning_rate=0.084, # Close to default\n",
    "                                    n_estimators=175,\n",
    "                                    max_depth=6,\n",
    "                                    subsample=0.5,\n",
    "                                    verbose=-1, force_col_wise=True)\n",
    "y_pred = grid_result.predict_proba(X_ts)\n",
    "y_pred"
   ]
  },
  {
   "cell_type": "code",
   "execution_count": 74,
   "id": "62fa5121",
   "metadata": {},
   "outputs": [
    {
     "name": "stdout",
     "output_type": "stream",
     "text": [
      "[LightGBM] [Warning] feature_fraction is set=0.26, colsample_bytree=1.0 will be ignored. Current value: feature_fraction=0.26\n"
     ]
    },
    {
     "data": {
      "text/plain": [
       "0.635733271094891"
      ]
     },
     "execution_count": 74,
     "metadata": {},
     "output_type": "execute_result"
    }
   ],
   "source": [
    "y_tr_pred = grid_result.predict_proba(X_tr)\n",
    "nll = log_loss(y_tr, y_tr_pred, labels=[0,1,2,3,4])\n",
    "nll # Training log loss"
   ]
  },
  {
   "cell_type": "code",
   "execution_count": 75,
   "id": "87265fc7",
   "metadata": {},
   "outputs": [
    {
     "data": {
      "text/plain": [
       "array([[0.00000000e+00, 5.88573755e-04, 8.21900466e-01, 9.71159150e-02,\n",
       "        6.59558006e-02, 1.44392448e-02],\n",
       "       [1.00000000e+00, 4.18485060e-03, 7.12034304e-02, 8.51538678e-01,\n",
       "        6.65413341e-02, 6.53170717e-03],\n",
       "       [2.00000000e+00, 4.18026714e-03, 2.01251421e-01, 4.75414906e-01,\n",
       "        2.97606945e-01, 2.15464605e-02],\n",
       "       ...,\n",
       "       [1.14350000e+04, 2.34818046e-03, 1.31966313e-01, 6.29648481e-01,\n",
       "        2.23120127e-01, 1.29168978e-02],\n",
       "       [1.14360000e+04, 7.63572736e-03, 9.72930498e-03, 1.71190813e-01,\n",
       "        7.58508119e-01, 5.29360359e-02],\n",
       "       [1.14370000e+04, 2.62633792e-04, 8.23884746e-01, 1.68267606e-01,\n",
       "        6.51327308e-03, 1.07174118e-03]])"
      ]
     },
     "execution_count": 75,
     "metadata": {},
     "output_type": "execute_result"
    }
   ],
   "source": [
    "test = np.c_[ np.ones(11438), y_pred ]              # add a column\n",
    "\n",
    "for i in range(len(test)):\n",
    "    test[i][0] = i\n",
    "\n",
    "test"
   ]
  },
  {
   "cell_type": "code",
   "execution_count": 78,
   "id": "808c5722",
   "metadata": {},
   "outputs": [],
   "source": [
    "header = \"id,no answer,very important,quite important,not important,not at all important\"\n",
    "fmt = '%d', '%1.9f', '%1.9f', '%1.9f', '%1.9f', '%1.9f'\n",
    "np.savetxt('lightgbm.csv', test, delimiter=',', header=header, comments=\"\", fmt=fmt)"
   ]
  },
  {
   "cell_type": "code",
   "execution_count": 18,
   "id": "e40b3573",
   "metadata": {},
   "outputs": [],
   "source": [
    "best_model = best_model.fit(X_tr, y_tr)"
   ]
  },
  {
   "cell_type": "code",
   "execution_count": 84,
   "id": "6d4927dd",
   "metadata": {},
   "outputs": [
    {
     "data": {
      "image/png": "[encoded data removed]",
      "text/plain": [
       "<Figure size 640x480 with 1 Axes>"
      ]
     },
     "metadata": {},
     "output_type": "display_data"
    }
   ],
   "source": [
    "importance = best_model.feature_importances_\n",
    "\n",
    "# Sort and standardize\n",
    "names = X_train.columns\n",
    "max = importance.max()\n",
    "standard_importance = [x / max for x in importance]\n",
    "label = dict(sorted(zip(names, standard_importance),  key=lambda x: x[1])[-20:])\n",
    "\n",
    "plt.barh(list(label.keys()), list(label.values()))\n",
    "plt.xlabel(\"Importance\")\n",
    "plt.title(\"Variable Importance for LightGBM\")\n",
    "plt.show()"
   ]
  }
 ],
 "metadata": {
  "kernelspec": {
   "display_name": "Python 3 (ipykernel)",
   "language": "python",
   "name": "python3"
  },
  "language_info": {
   "codemirror_mode": {
    "name": "ipython",
    "version": 3
   },
   "file_extension": ".py",
   "mimetype": "text/x-python",
   "name": "python",
   "nbconvert_exporter": "python",
   "pygments_lexer": "ipython3",
   "version": "3.11.4"
  }
 },
 "nbformat": 4,
 "nbformat_minor": 5
}
