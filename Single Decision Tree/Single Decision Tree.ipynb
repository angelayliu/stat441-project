{
 "cells": [
  {
   "cell_type": "code",
   "execution_count": 4,
   "id": "7f5a2b1f",
   "metadata": {},
   "outputs": [],
   "source": [
    "import pandas as pd \n",
    "import numpy as np\n",
    "from sklearn.tree import DecisionTreeClassifier \n",
    "from sklearn.model_selection import GridSearchCV, StratifiedKFold, cross_val_score\n",
    "from sklearn.metrics import log_loss"
   ]
  },
  {
   "cell_type": "code",
   "execution_count": 2,
   "id": "d555a1e3",
   "metadata": {},
   "outputs": [],
   "source": [
    "X_train = pd.read_csv(\"../X_train.csv\")\n",
    "y_train = pd.read_csv(\"../y_train.csv\")\n",
    "X_test = pd.read_csv(\"../X_test.csv\")\n",
    "\n",
    "X_train = X_train.select_dtypes(exclude=['object'])\n",
    "X_train.fillna(-3, inplace=True)\n",
    "X_tr = X_train.values[:,1:]\n",
    "X_tr[X_tr < -3] = -2\n",
    "\n",
    "y_tr = y_train.values[:,1]\n",
    "y_tr[y_tr == -1] = 0\n",
    "\n",
    "X_test = X_test.select_dtypes(exclude=['object'])\n",
    "X_test.fillna(-3, inplace=True)\n",
    "X_ts = X_test.values[:,1:]\n",
    "X_ts[X_ts < -3] = -2"
   ]
  },
  {
   "cell_type": "code",
   "execution_count": 5,
   "id": "5655666d",
   "metadata": {},
   "outputs": [
    {
     "name": "stdout",
     "output_type": "stream",
     "text": [
      "-18.428819614077355\n"
     ]
    }
   ],
   "source": [
    "model= DecisionTreeClassifier()\n",
    "kfold = StratifiedKFold(n_splits=5, shuffle=True, random_state=441)\n",
    "n_scores = cross_val_score(model, X_tr, y_tr, scoring='neg_log_loss', cv=kfold, n_jobs=-1)\n",
    "print(np.mean(n_scores))"
   ]
  }
 ],
 "metadata": {
  "kernelspec": {
   "display_name": "Python 3 (ipykernel)",
   "language": "python",
   "name": "python3"
  },
  "language_info": {
   "codemirror_mode": {
    "name": "ipython",
    "version": 3
   },
   "file_extension": ".py",
   "mimetype": "text/x-python",
   "name": "python",
   "nbconvert_exporter": "python",
   "pygments_lexer": "ipython3",
   "version": "3.11.4"
  }
 },
 "nbformat": 4,
 "nbformat_minor": 5
}
