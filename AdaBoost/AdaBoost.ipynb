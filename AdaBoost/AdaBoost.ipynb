{
 "cells": [
  {
   "cell_type": "code",
   "execution_count": 4,
   "id": "b55e683a",
   "metadata": {},
   "outputs": [],
   "source": [
    "import pandas as pd \n",
    "import numpy as np\n",
    "from sklearn.ensemble import AdaBoostClassifier\n",
    "from sklearn.tree import DecisionTreeClassifier\n",
    "from sklearn.model_selection import GridSearchCV, KFold, StratifiedKFold, RepeatedStratifiedKFold, cross_val_score"
   ]
  },
  {
   "cell_type": "code",
   "execution_count": 2,
   "id": "2b93c918",
   "metadata": {},
   "outputs": [],
   "source": [
    "X_train = pd.read_csv(\"../X_train.csv\")\n",
    "y_train = pd.read_csv(\"../y_train.csv\")\n",
    "X_test = pd.read_csv(\"../X_test.csv\")\n",
    "\n",
    "X_train = X_train.select_dtypes(exclude=['object'])\n",
    "X_train.fillna(-3, inplace=True)\n",
    "X_tr = X_train.values[:,1:]\n",
    "X_tr[X_tr < -2] = -2\n",
    "\n",
    "y_tr = y_train.values[:,1]\n",
    "y_tr[y_tr == -1] = 0\n",
    "\n",
    "X_test = X_test.select_dtypes(exclude=['object'])\n",
    "X_test.fillna(-3, inplace=True)\n",
    "X_ts = X_test.values[:,1:]\n",
    "X_ts[X_ts < -2] = -2"
   ]
  },
  {
   "cell_type": "code",
   "execution_count": null,
   "id": "6c28c798",
   "metadata": {},
   "outputs": [],
   "source": [
    "# base_estimator = DecisionTreeClassifier()\n",
    "# ada_boost = AdaBoostClassifier(estimator=base_estimator)\n",
    "# kfold = RepeatedStratifiedKFold(n_splits=10, n_repeats=3, random_state=441) # shuffle=True\n",
    "# param_grid = {\n",
    "#     'estimator__max_leaf_nodes': [2, 10, 50, 100], \n",
    "#     'n_estimators': [10, 30, 50, 75, 100], # , 500, 1000, 5000\n",
    "#     'learning_rate': [0.001, 0.005, 0.01, 0.05, 0.1] \n",
    "# }\n",
    "# grid_search = GridSearchCV(estimator=ada_boost, \n",
    "#                            param_grid=param_grid, cv=kfold, scoring='neg_log_loss', n_jobs=-1)\n",
    "# grid_result = grid_search.fit(X_tr, y_tr)\n",
    "\n",
    "model = AdaBoostClassifier()\n",
    "# evaluate the model\n",
    "cv = RepeatedStratifiedKFold(n_splits=10, n_repeats=3, random_state=1)\n",
    "kfold = StratifiedKFold(n_splits=5, shuffle=True, random_state=441)\n",
    "n_scores = cross_val_score(model, X_tr, y_tr, scoring='neg_log_loss', cv=kfold, n_jobs=-1, error_score='raise')\n",
    "print(np.mean(n_scores))"
   ]
  },
  {
   "cell_type": "code",
   "execution_count": 6,
   "id": "9a9c5513",
   "metadata": {},
   "outputs": [
    {
     "name": "stdout",
     "output_type": "stream",
     "text": [
      "AdaBoostClassifier(estimator=DecisionTreeClassifier(), learning_rate=0.005) -18.300414098878626\n",
      "{'learning_rate': 0.005, 'n_estimators': 50}\n"
     ]
    }
   ],
   "source": [
    "print(grid_result.best_params_, grid_result.best_estimator_, grid_search.best_score_)"
   ]
  }
 ],
 "metadata": {
  "kernelspec": {
   "display_name": "Python 3 (ipykernel)",
   "language": "python",
   "name": "python3"
  },
  "language_info": {
   "codemirror_mode": {
    "name": "ipython",
    "version": 3
   },
   "file_extension": ".py",
   "mimetype": "text/x-python",
   "name": "python",
   "nbconvert_exporter": "python",
   "pygments_lexer": "ipython3",
   "version": "3.11.4"
  }
 },
 "nbformat": 4,
 "nbformat_minor": 5
}
