{
 "cells": [
  {
   "cell_type": "code",
   "execution_count": 1,
   "id": "3ab530d6",
   "metadata": {},
   "outputs": [],
   "source": [
    "import pandas as pd \n",
    "import numpy as np\n",
    "from sklearn.naive_bayes import GaussianNB\n",
    "from sklearn.model_selection import GridSearchCV\n",
    "from sklearn.metrics import log_loss"
   ]
  },
  {
   "cell_type": "code",
   "execution_count": 2,
   "id": "dda9013e",
   "metadata": {},
   "outputs": [],
   "source": [
    "x_train = pd.read_csv(\"../X_train.csv\")\n",
    "y_train = pd.read_csv(\"../y_train.csv\")\n",
    "x_test = pd.read_csv(\"../X_test.csv\")\n",
    "\n",
    "x_train = x_train.select_dtypes(exclude=['object'])\n",
    "x_train.fillna(-3, inplace=True)\n",
    "x_tr = x_train.values[:,1:]\n",
    "x_tr[x_tr < -3] = -2\n",
    "\n",
    "y_tr = y_train.values[:,1]\n",
    "y_tr[y_tr == -1] = 0\n",
    "\n",
    "x_test = x_test.select_dtypes(exclude=['object'])\n",
    "x_test.fillna(-3, inplace=True)\n",
    "x_ts = x_test.values[:,1:]\n",
    "x_ts[x_ts < -3] = -2"
   ]
  },
  {
   "cell_type": "code",
   "execution_count": null,
   "id": "16d52cc1",
   "metadata": {},
   "outputs": [
    {
     "name": "stdout",
     "output_type": "stream",
     "text": [
      "Fitting 5 folds for each of 100 candidates, totalling 500 fits\n"
     ]
    }
   ],
   "source": [
    "param_grid_nb = {\n",
    "    'var_smoothing': np.logspace(3,-1, num=100)\n",
    "}\n",
    "\n",
    "nbModel_grid = GridSearchCV(estimator=GaussianNB(), param_grid=param_grid_nb, scoring=\"neg_log_loss\", \n",
    "                            verbose=1, cv=5, n_jobs=-1)\n",
    "nbModel_grid.fit(x_tr, y_tr)\n",
    "print(nbModel_grid.best_estimator_)"
   ]
  },
  {
   "cell_type": "code",
   "execution_count": 7,
   "id": "8dd61f83",
   "metadata": {},
   "outputs": [
    {
     "data": {
      "text/plain": [
       "array([[0.01487384, 0.206356  , 0.28468164, 0.28551673, 0.20857179],\n",
       "       [0.01487384, 0.20635613, 0.28468176, 0.28551667, 0.20857161],\n",
       "       [0.01487384, 0.20635613, 0.28468176, 0.28551667, 0.20857161],\n",
       "       ...,\n",
       "       [0.01488779, 0.20632419, 0.28474965, 0.28547818, 0.20856019],\n",
       "       [0.01491607, 0.20626201, 0.28489199, 0.28539578, 0.20853414],\n",
       "       [0.01487247, 0.20637136, 0.28486741, 0.28542615, 0.20846262]])"
      ]
     },
     "execution_count": 7,
     "metadata": {},
     "output_type": "execute_result"
    }
   ],
   "source": [
    "y_pred = nbModel_grid.predict_proba(x_ts)\n",
    "y_pred"
   ]
  },
  {
   "cell_type": "code",
   "execution_count": null,
   "id": "8d82de95",
   "metadata": {},
   "outputs": [],
   "source": [
    "y_tr_pred = nbModel_grid.predict_proba(x_tr)\n",
    "log_loss(y_tr, y_tr_pred, labels=[0,1,2,3,4])"
   ]
  },
  {
   "cell_type": "code",
   "execution_count": 8,
   "id": "e8968ee6",
   "metadata": {
    "scrolled": true
   },
   "outputs": [
    {
     "data": {
      "text/plain": [
       "array([[0.00000000e+00, 1.48738438e-02, 2.06356001e-01, 2.84681636e-01,\n",
       "        2.85516728e-01, 2.08571792e-01],\n",
       "       [1.00000000e+00, 1.48738401e-02, 2.06356128e-01, 2.84681759e-01,\n",
       "        2.85516665e-01, 2.08571608e-01],\n",
       "       [2.00000000e+00, 1.48738401e-02, 2.06356128e-01, 2.84681759e-01,\n",
       "        2.85516665e-01, 2.08571608e-01],\n",
       "       ...,\n",
       "       [1.14350000e+04, 1.48877888e-02, 2.06324192e-01, 2.84749649e-01,\n",
       "        2.85478184e-01, 2.08560185e-01],\n",
       "       [1.14360000e+04, 1.49160709e-02, 2.06262014e-01, 2.84891992e-01,\n",
       "        2.85395781e-01, 2.08534142e-01],\n",
       "       [1.14370000e+04, 1.48724731e-02, 2.06371356e-01, 2.84867406e-01,\n",
       "        2.85426146e-01, 2.08462619e-01]])"
      ]
     },
     "execution_count": 8,
     "metadata": {},
     "output_type": "execute_result"
    }
   ],
   "source": [
    "test = np.c_[ np.ones(11438), y_pred ]              # add a column\n",
    "\n",
    "for i in range(len(test)):\n",
    "    test[i][0] = i\n",
    "\n",
    "test"
   ]
  },
  {
   "cell_type": "code",
   "execution_count": 9,
   "id": "6e1ed1e3",
   "metadata": {},
   "outputs": [],
   "source": [
    "header = \"id,no answer,very important,quite important,not important,not at all important\"\n",
    "fmt = '%d', '%1.9f', '%1.9f', '%1.9f', '%1.9f', '%1.9f'\n",
    "np.savetxt('naivebayes.csv', test, delimiter=',', header=header, comments=\"\", fmt=fmt)"
   ]
  }
 ],
 "metadata": {
  "kernelspec": {
   "display_name": "Python 3 (ipykernel)",
   "language": "python",
   "name": "python3"
  },
  "language_info": {
   "codemirror_mode": {
    "name": "ipython",
    "version": 3
   },
   "file_extension": ".py",
   "mimetype": "text/x-python",
   "name": "python",
   "nbconvert_exporter": "python",
   "pygments_lexer": "ipython3",
   "version": "3.11.4"
  }
 },
 "nbformat": 4,
 "nbformat_minor": 5
}
