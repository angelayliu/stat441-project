{
 "cells": [
  {
   "cell_type": "code",
   "execution_count": 62,
   "id": "b2d45d91-28dc-484b-96f9-ba1dbe5689b1",
   "metadata": {},
   "outputs": [],
   "source": [
    "from pandas import read_csv\n",
    "from sklearn.model_selection import GridSearchCV, StratifiedKFold, train_test_split\n",
    "from sklearn.linear_model import LogisticRegressionCV, LogisticRegression\n",
    "import xgboost as xgb\n",
    "from sklearn.ensemble import RandomForestClassifier, ExtraTreesClassifier\n",
    "import matplotlib.pyplot as plt\n",
    "import numpy as np\n",
    "import data\n",
    "import lightgbm as lgb\n",
    "from sklearn.metrics import log_loss # positive value"
   ]
  },
  {
   "cell_type": "code",
   "execution_count": 70,
   "id": "fa461167-0024-4040-99f4-dc83e15ea835",
   "metadata": {},
   "outputs": [],
   "source": [
    "dataset = data.Dataset()\n",
    "X_train = dataset.getTrain().values\n",
    "X_test = dataset.getTest().values\n",
    "\n",
    "y_train_data = read_csv('../y_train.csv')\n",
    "y_train = y_train_data.values[:,1]\n",
    "y_train[y_train == -1] = 0"
   ]
  },
  {
   "cell_type": "code",
   "execution_count": 71,
   "id": "2b0d3f53-fcfa-4b72-8fd1-40f5e4919192",
   "metadata": {},
   "outputs": [],
   "source": [
    "X_train, X_val, y_train, y_val = train_test_split(X_train, y_train, test_size=0.20, random_state=441)"
   ]
  },
  {
   "cell_type": "code",
   "execution_count": 72,
   "id": "4673d038-584a-4c39-9b40-38753a795333",
   "metadata": {},
   "outputs": [],
   "source": [
    "xgb_model = xgb.XGBClassifier(\n",
    "                objective=\"multi:softmax\", \n",
    "                random_state=441, \n",
    "                # max_depth=8, \n",
    "                # max_leaves=66, \n",
    "                # learning_rate=0.1, \n",
    "                # subsample=0.8, \n",
    "                # min_child_weight = 8,\n",
    "                # colsample_bytree = 0.6,\n",
    "                # gamma = 0.1,\n",
    "                # n_estimators = 200\n",
    "            ).fit(X_train, y_train) "
   ]
  },
  {
   "cell_type": "code",
   "execution_count": 73,
   "id": "c3430c85-a1f3-4b33-8acb-e82e9582f669",
   "metadata": {},
   "outputs": [],
   "source": [
    "# Using default num_leaves and learning_rate:\n",
    "    # -0.846532 using {'feature_fraction': 0.26, 'learning_rate': 0.1, 'max_depth': 6, 'n_estimators': 175, 'num_leaves': 31, 'subsample': 0.5}\n",
    "lgbm_model = lgb.LGBMClassifier(objective='multiclass', \n",
    "                                num_class=5, boosting_type='gbdt', seed=441,\n",
    "                                #     feature_fraction=0.26,\n",
    "                                #     num_leaves=27, # Close to default\n",
    "                                #     learning_rate=0.084, # Close to default\n",
    "                                #     n_estimators=175,\n",
    "                                #     max_depth=6,\n",
    "                                #     subsample=0.5,\n",
    "                                verbose=-1, force_col_wise=True\n",
    "                                \n",
    "                                # feature_fraction=1.0, learning_rate=0.1, max_depth= -1 (i.e. infty), n_estimators=100, num_leaves=31, subsample=1.0\n",
    "                         ).fit(X_train, y_train)"
   ]
  },
  {
   "cell_type": "code",
   "execution_count": 74,
   "id": "fdde3d31-acf2-4e8f-b8f3-c31749d96788",
   "metadata": {},
   "outputs": [],
   "source": [
    "# Generate predicted probabilities from both models\n",
    "xgb_probs = xgb_model.predict_proba(X_val)\n",
    "lgb_probs = lgbm_model.predict_proba(X_val)"
   ]
  },
  {
   "cell_type": "code",
   "execution_count": 75,
   "id": "87d894a9-9bb6-419e-954c-4c1db411bd7f",
   "metadata": {},
   "outputs": [],
   "source": [
    "stacked = np.concatenate((xgb_probs, lgb_probs), axis=1)"
   ]
  },
  {
   "cell_type": "code",
   "execution_count": 9,
   "id": "cf2e6237-045c-417a-b0c5-0eceaa46fa5c",
   "metadata": {},
   "outputs": [
    {
     "data": {
      "text/html": [
       "<style>#sk-container-id-1 {color: black;}#sk-container-id-1 pre{padding: 0;}#sk-container-id-1 div.sk-toggleable {background-color: white;}#sk-container-id-1 label.sk-toggleable__label {cursor: pointer;display: block;width: 100%;margin-bottom: 0;padding: 0.3em;box-sizing: border-box;text-align: center;}#sk-container-id-1 label.sk-toggleable__label-arrow:before {content: \"▸\";float: left;margin-right: 0.25em;color: #696969;}#sk-container-id-1 label.sk-toggleable__label-arrow:hover:before {color: black;}#sk-container-id-1 div.sk-estimator:hover label.sk-toggleable__label-arrow:before {color: black;}#sk-container-id-1 div.sk-toggleable__content {max-height: 0;max-width: 0;overflow: hidden;text-align: left;background-color: #f0f8ff;}#sk-container-id-1 div.sk-toggleable__content pre {margin: 0.2em;color: black;border-radius: 0.25em;background-color: #f0f8ff;}#sk-container-id-1 input.sk-toggleable__control:checked~div.sk-toggleable__content {max-height: 200px;max-width: 100%;overflow: auto;}#sk-container-id-1 input.sk-toggleable__control:checked~label.sk-toggleable__label-arrow:before {content: \"▾\";}#sk-container-id-1 div.sk-estimator input.sk-toggleable__control:checked~label.sk-toggleable__label {background-color: #d4ebff;}#sk-container-id-1 div.sk-label input.sk-toggleable__control:checked~label.sk-toggleable__label {background-color: #d4ebff;}#sk-container-id-1 input.sk-hidden--visually {border: 0;clip: rect(1px 1px 1px 1px);clip: rect(1px, 1px, 1px, 1px);height: 1px;margin: -1px;overflow: hidden;padding: 0;position: absolute;width: 1px;}#sk-container-id-1 div.sk-estimator {font-family: monospace;background-color: #f0f8ff;border: 1px dotted black;border-radius: 0.25em;box-sizing: border-box;margin-bottom: 0.5em;}#sk-container-id-1 div.sk-estimator:hover {background-color: #d4ebff;}#sk-container-id-1 div.sk-parallel-item::after {content: \"\";width: 100%;border-bottom: 1px solid gray;flex-grow: 1;}#sk-container-id-1 div.sk-label:hover label.sk-toggleable__label {background-color: #d4ebff;}#sk-container-id-1 div.sk-serial::before {content: \"\";position: absolute;border-left: 1px solid gray;box-sizing: border-box;top: 0;bottom: 0;left: 50%;z-index: 0;}#sk-container-id-1 div.sk-serial {display: flex;flex-direction: column;align-items: center;background-color: white;padding-right: 0.2em;padding-left: 0.2em;position: relative;}#sk-container-id-1 div.sk-item {position: relative;z-index: 1;}#sk-container-id-1 div.sk-parallel {display: flex;align-items: stretch;justify-content: center;background-color: white;position: relative;}#sk-container-id-1 div.sk-item::before, #sk-container-id-1 div.sk-parallel-item::before {content: \"\";position: absolute;border-left: 1px solid gray;box-sizing: border-box;top: 0;bottom: 0;left: 50%;z-index: -1;}#sk-container-id-1 div.sk-parallel-item {display: flex;flex-direction: column;z-index: 1;position: relative;background-color: white;}#sk-container-id-1 div.sk-parallel-item:first-child::after {align-self: flex-end;width: 50%;}#sk-container-id-1 div.sk-parallel-item:last-child::after {align-self: flex-start;width: 50%;}#sk-container-id-1 div.sk-parallel-item:only-child::after {width: 0;}#sk-container-id-1 div.sk-dashed-wrapped {border: 1px dashed gray;margin: 0 0.4em 0.5em 0.4em;box-sizing: border-box;padding-bottom: 0.4em;background-color: white;}#sk-container-id-1 div.sk-label label {font-family: monospace;font-weight: bold;display: inline-block;line-height: 1.2em;}#sk-container-id-1 div.sk-label-container {text-align: center;}#sk-container-id-1 div.sk-container {/* jupyter's `normalize.less` sets `[hidden] { display: none; }` but bootstrap.min.css set `[hidden] { display: none !important; }` so we also need the `!important` here to be able to override the default hidden behavior on the sphinx rendered scikit-learn.org. See: https://github.com/scikit-learn/scikit-learn/issues/21755 */display: inline-block !important;position: relative;}#sk-container-id-1 div.sk-text-repr-fallback {display: none;}</style><div id=\"sk-container-id-1\" class=\"sk-top-container\"><div class=\"sk-text-repr-fallback\"><pre>LogisticRegressionCV(cv=5, max_iter=1000, random_state=441,\n",
       "                     scoring=&#x27;neg_log_loss&#x27;)</pre><b>In a Jupyter environment, please rerun this cell to show the HTML representation or trust the notebook. <br />On GitHub, the HTML representation is unable to render, please try loading this page with nbviewer.org.</b></div><div class=\"sk-container\" hidden><div class=\"sk-item\"><div class=\"sk-estimator sk-toggleable\"><input class=\"sk-toggleable__control sk-hidden--visually\" id=\"sk-estimator-id-1\" type=\"checkbox\" checked><label for=\"sk-estimator-id-1\" class=\"sk-toggleable__label sk-toggleable__label-arrow\">LogisticRegressionCV</label><div class=\"sk-toggleable__content\"><pre>LogisticRegressionCV(cv=5, max_iter=1000, random_state=441,\n",
       "                     scoring=&#x27;neg_log_loss&#x27;)</pre></div></div></div></div></div>"
      ],
      "text/plain": [
       "LogisticRegressionCV(cv=5, max_iter=1000, random_state=441,\n",
       "                     scoring='neg_log_loss')"
      ]
     },
     "execution_count": 9,
     "metadata": {},
     "output_type": "execute_result"
    }
   ],
   "source": [
    "#Test logistic meta-model\n",
    "lmodel = LogisticRegressionCV(random_state=441, cv=5, max_iter=1000, scoring=\"neg_log_loss\")\n",
    "lmodel.fit(stacked,y_val)"
   ]
  },
  {
   "cell_type": "code",
   "execution_count": 10,
   "id": "c0ff2a6b-9407-43a6-b636-4ac4a18799cb",
   "metadata": {},
   "outputs": [
    {
     "name": "stdout",
     "output_type": "stream",
     "text": [
      "-0.8557052567723323\n"
     ]
    }
   ],
   "source": [
    "print(lmodel.score(stacked, y_val))"
   ]
  },
  {
   "cell_type": "code",
   "execution_count": 23,
   "id": "545c5c8a",
   "metadata": {},
   "outputs": [
    {
     "name": "stdout",
     "output_type": "stream",
     "text": [
      "\n",
      "Best: -1.117774 using {'criterion': 'log_loss', 'max_features': 'sqrt', 'n_estimators': 100}\n"
     ]
    }
   ],
   "source": [
    "# Random forest meta-model\n",
    "# -1.117774 \n",
    "rfmodel = RandomForestClassifier(random_state=441)\n",
    "kfold = StratifiedKFold(n_splits=5, shuffle=True, random_state=441)\n",
    "param_grid = { \n",
    "    'n_estimators': [100],\n",
    "    'max_features': ['sqrt'],\n",
    "    'criterion' :['log_loss']\n",
    "}\n",
    "grid_search = GridSearchCV(estimator=rfmodel, param_grid=param_grid, scoring=\"neg_log_loss\", cv=kfold)\n",
    "grid_result = grid_search.fit(stacked, y_val)\n",
    "print(\"\\nBest: %f using %s\" % (grid_result.best_score_, grid_result.best_params_))"
   ]
  },
  {
   "cell_type": "code",
   "execution_count": 27,
   "id": "91dcf1a5",
   "metadata": {},
   "outputs": [
    {
     "name": "stdout",
     "output_type": "stream",
     "text": [
      "\n",
      "Best: -1.179473 using {'criterion': 'log_loss', 'max_features': 'sqrt', 'n_estimators': 100}\n"
     ]
    }
   ],
   "source": [
    "# Extra randomized trees meta-model\n",
    "# -1.179473\n",
    "rand_trees_model = ExtraTreesClassifier()\n",
    "kfold = StratifiedKFold(n_splits=5, shuffle=True, random_state=441)\n",
    "param_grid = { \n",
    "    'n_estimators': [100],\n",
    "    'max_features': ['sqrt'],\n",
    "    'criterion' :['log_loss']\n",
    "}\n",
    "grid_search = GridSearchCV(estimator=rand_trees_model, param_grid=param_grid, scoring=\"neg_log_loss\", cv=kfold)\n",
    "grid_result = grid_search.fit(stacked, y_val)\n",
    "print(\"\\nBest: %f using %s\" % (grid_result.best_score_, grid_result.best_params_))"
   ]
  },
  {
   "cell_type": "code",
   "execution_count": 60,
   "id": "f0e5ff36",
   "metadata": {},
   "outputs": [
    {
     "name": "stdout",
     "output_type": "stream",
     "text": [
      "\n",
      "Best: -0.854490 using {'feature_fraction': 0.26, 'learning_rate': 0.084, 'max_depth': 2, 'n_estimators': 50, 'num_leaves': 6, 'subsample': 0.01}\n"
     ]
    }
   ],
   "source": [
    "# LightGBM meta-model\n",
    "# data_old: -0.854490\n",
    "# data: -0.855195\n",
    "lgb_meta_model = lgb.LGBMClassifier(objective='multiclass', \n",
    "                                num_class=5, boosting_type='gbdt', seed=441,\n",
    "                                #     feature_fraction=0.26,\n",
    "                                #     num_leaves=27, # Close to default\n",
    "                                #     learning_rate=0.084, # Close to default\n",
    "                                #     n_estimators=175,\n",
    "                                #     max_depth=6,\n",
    "                                #     subsample=0.5,\n",
    "                                verbose=-1, force_col_wise=True)\n",
    "kfold = StratifiedKFold(n_splits=5, shuffle=True, random_state=441)\n",
    "param_grid = { \n",
    "    'feature_fraction': [0.26],\n",
    "    'num_leaves': [6],\n",
    "    'learning_rate': [0.084], #\n",
    "    'n_estimators': [50],\n",
    "    'max_depth': [2],\n",
    "    'subsample': [0.01]\n",
    "}\n",
    "grid_search = GridSearchCV(estimator=lgb_meta_model, param_grid=param_grid, scoring=\"neg_log_loss\", cv=kfold)\n",
    "grid_result = grid_search.fit(stacked, y_val)\n",
    "print(\"\\nBest: %f using %s\" % (grid_result.best_score_, grid_result.best_params_))"
   ]
  },
  {
   "cell_type": "code",
   "execution_count": 76,
   "id": "64f9a3bb-bbcc-4972-b9e5-bb91151372d3",
   "metadata": {},
   "outputs": [
    {
     "name": "stdout",
     "output_type": "stream",
     "text": [
      "\n",
      "Best: -0.847389 using {'colsample_bytree': 0.7, 'gamma': 0.1, 'learning_rate': 0.1, 'max_depth': 2, 'max_leaves': 3, 'min_child_weight': 4, 'n_estimators': 105, 'subsample': 0.8}\n"
     ]
    }
   ],
   "source": [
    "#Test xgb meta-model\n",
    "stack_model = xgb.XGBClassifier(\n",
    "                objective=\"multi:softmax\", \n",
    "                random_state=441, \n",
    "                # max_depth=8, \n",
    "                # max_leaves=66, \n",
    "                # learning_rate=0.1, \n",
    "                # subsample=0.8, \n",
    "                # min_child_weight = 8,\n",
    "                # colsample_bytree = 0.6,\n",
    "                # gamma = 0.1\n",
    ")\n",
    "#0.2 train/val\n",
    "#Best: -0.849004 using {'colsample_bytree': 0.7, 'gamma': 0.2, 'learning_rate': 0.1, 'max_depth': 2, 'max_leaves': 3, 'min_child_weight': 4, 'n_estimators': 100, 'subsample': 0.8}\n",
    "\n",
    "# data_old: -0.845424\n",
    "# data:     -0.847389 {'colsample_bytree': 0.7}\n",
    "\n",
    "kfold = StratifiedKFold(n_splits=5, shuffle=True, random_state=441)\n",
    "param_grid = {\n",
    "    'colsample_bytree': [0.7], \n",
    "    'gamma': [0.1],\n",
    "    'learning_rate': [0.1],\n",
    "    'max_depth': [2],\n",
    "    'max_leaves': [3],\n",
    "    'min_child_weight': [4],\n",
    "    'subsample': [0.8],\n",
    "    'n_estimators': [105]\n",
    "}\n",
    "\n",
    "# param_grid = {\n",
    "#     'colsample_bytree': [0.8], \n",
    "#     'gamma': [0.1], \n",
    "#     'learning_rate': [0.1], \n",
    "#     'max_depth': [2], \n",
    "#     'max_leaves': [3], \n",
    "#     'min_child_weight': [4], \n",
    "#     'subsample': [0.8],\n",
    "#     'n_estimators': [105]\n",
    "# }\n",
    "\n",
    "# param_grid = {\n",
    "#     'max_depth': [2,3,4],\n",
    "#     'max_leaves': [2,3,4,5],\n",
    "#     'learning_rate': [0.07, 0.1, 0.13],\n",
    "#     'min_child_weight': [2,3,4],\n",
    "#     'subsample': [0.8, 0.9, 1],\n",
    "#     'colsample_bytree': [0.7, 0.8], \n",
    "#     'gamma': [0, 0.1, 0.2],\n",
    "#     'n_estimators': [100]\n",
    "# }\n",
    "\n",
    "# param_grid = {\n",
    "#     'max_depth': [2,3],\n",
    "#     'max_leaves': [2,3],\n",
    "#     'learning_rate': [0.1, 0.13, 0.15],\n",
    "#     'min_child_weight': [4],\n",
    "#     'subsample': [0.8],\n",
    "#     'colsample_bytree': [0.7, 0.8],\n",
    "#     'gamma': [0, 0.1, 0.2],\n",
    "#     'n_estimators': [95, 100, 105]\n",
    "# }\n",
    "\n",
    "# param_grid = {\n",
    "#     'colsample_bytree': [0.7], \n",
    "#     'gamma': [0], \n",
    "#     'learning_rate': [0.13], \n",
    "#     'max_depth': [2], \n",
    "#     'max_leaves': [2], \n",
    "#     'min_child_weight': [4], \n",
    "#     'subsample': [0.8],\n",
    "#     'n_estimators': [100]\n",
    "# }\n",
    "\n",
    "grid_search = GridSearchCV(stack_model, param_grid, scoring=\"neg_log_loss\", n_jobs=-1, cv=kfold)\n",
    "grid_result = grid_search.fit(stacked, y_val)\n",
    "\n",
    "print(\"\\nBest: %f using %s\" % (grid_result.best_score_, grid_result.best_params_))\n",
    "\n",
    "# print results\n",
    "# means = grid_result.cv_results_['mean_test_score']\n",
    "# params = grid_result.cv_results_['params']\n",
    "# for mean, param in zip(means, params):\n",
    "#  print(\"%f with: %r\" % (mean, param))\n",
    "\n"
   ]
  },
  {
   "cell_type": "code",
   "execution_count": 77,
   "id": "7b1e70e9-9ce5-4ea0-9710-2d37b028bee0",
   "metadata": {},
   "outputs": [],
   "source": [
    "# Best xgb meta-model\n",
    "stacked_model = xgb.XGBClassifier(\n",
    "                objective=\"multi:softmax\", \n",
    "                random_state=441, \n",
    "                max_depth=2, \n",
    "                max_leaves=3, \n",
    "                learning_rate=0.1, \n",
    "                subsample=0.8, \n",
    "                min_child_weight = 4,\n",
    "                colsample_bytree = 0.7,\n",
    "                gamma = 0.1,\n",
    "                n_estimators = 105\n",
    ").fit(stacked, y_val)"
   ]
  },
  {
   "cell_type": "code",
   "execution_count": 78,
   "id": "78a81449-6ffa-459c-8d96-969f6ed69708",
   "metadata": {},
   "outputs": [],
   "source": [
    "xgb_test = xgb_model.predict_proba(X_test)\n",
    "lgb_test = lgbm_model.predict_proba(X_test)\n",
    "stacked_test = np.concatenate((xgb_test, lgb_test), axis=1)"
   ]
  },
  {
   "cell_type": "code",
   "execution_count": 79,
   "id": "59779e90-7536-42d7-b7aa-f6586fecc845",
   "metadata": {},
   "outputs": [],
   "source": [
    "prob = stacked_model.predict_proba(stacked_test)"
   ]
  },
  {
   "cell_type": "code",
   "execution_count": 82,
   "id": "52f8925b-17af-4ee6-b704-4333801cba0a",
   "metadata": {},
   "outputs": [],
   "source": [
    "test = np.c_[ np.ones(11438), prob ]              # add a column\n",
    "\n",
    "for i in range(len(test)):\n",
    "    test[i][0] = i\n",
    "\n",
    "header = \"id,no answer,very important,quite important,not important,not at all important\"\n",
    "fmt = '%d', '%1.9f', '%1.9f', '%1.9f', '%1.9f', '%1.9f'\n",
    "np.savetxt('stack_default_new_data.csv', test, delimiter=',', header=header, comments=\"\", fmt=fmt) "
   ]
  },
  {
   "cell_type": "code",
   "execution_count": null,
   "id": "e02212f6-3f5a-49c6-85d9-6d703613f437",
   "metadata": {},
   "outputs": [],
   "source": []
  }
 ],
 "metadata": {
  "kernelspec": {
   "display_name": "Python 3 (ipykernel)",
   "language": "python",
   "name": "python3"
  },
  "language_info": {
   "codemirror_mode": {
    "name": "ipython",
    "version": 3
   },
   "file_extension": ".py",
   "mimetype": "text/x-python",
   "name": "python",
   "nbconvert_exporter": "python",
   "pygments_lexer": "ipython3",
   "version": "3.11.4"
  }
 },
 "nbformat": 4,
 "nbformat_minor": 5
}
